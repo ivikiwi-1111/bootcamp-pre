{
  "nbformat": 4,
  "nbformat_minor": 0,
  "metadata": {
    "colab": {
      "name": "numpy/pandas.ipynb",
      "provenance": [],
      "collapsed_sections": []
    },
    "kernelspec": {
      "name": "python3",
      "display_name": "Python 3"
    }
  },
  "cells": [
    {
      "cell_type": "markdown",
      "metadata": {
        "id": "hsmMRN1W_mFc"
      },
      "source": [
        "## Использование Python\n",
        "Добрый день! Сегодня будут рассказаны библиотеки numpy, pandas и matplotlib. Поехали!"
      ]
    },
    {
      "cell_type": "markdown",
      "metadata": {
        "id": "D5mgnXuFRc1p"
      },
      "source": [
        "##Numpy\n",
        "\n",
        "Поговорим о библиотеке numpy. Ее подключение выполняется следующим образом.\n"
      ]
    },
    {
      "cell_type": "code",
      "metadata": {
        "id": "c6Gks-B-RqAh"
      },
      "source": [
        "import numpy as np"
      ],
      "execution_count": null,
      "outputs": []
    },
    {
      "cell_type": "markdown",
      "metadata": {
        "id": "hc9lchbPRvET"
      },
      "source": [
        "Теперь обращение к какому-либ объекту из бибилотеки будет происходить с помощью ``` np.```"
      ]
    },
    {
      "cell_type": "markdown",
      "metadata": {
        "id": "e5TzEESHUKXv"
      },
      "source": [
        "Основной объект numpy это массив.\n",
        "\n",
        "\n",
        "Можно создать массив целых чисел длины N"
      ]
    },
    {
      "cell_type": "code",
      "metadata": {
        "id": "sQz_YqIEUTz0",
        "outputId": "265a863b-eeb1-4789-a61d-8fe63498887b",
        "colab": {
          "base_uri": "https://localhost:8080/"
        }
      },
      "source": [
        "N = 10\n",
        "array_1 = np.ndarray(N, dtype=np.int32)  # В данном случае значения не присваиваются, поэтому они рандомные\n",
        "print(array_1)\n",
        "array_2 = np.zeros(N, dtype=np.int32)  # В данном случае во все ячейки массива кладется нуль\n",
        "print(array_2)"
      ],
      "execution_count": null,
      "outputs": [
        {
          "output_type": "stream",
          "text": [
            "[5 0 6 0 7 0 8 0 9 0]\n",
            "[0 0 0 0 0 0 0 0 0 0]\n"
          ],
          "name": "stdout"
        }
      ]
    },
    {
      "cell_type": "markdown",
      "metadata": {
        "id": "hbBLqP8wUed8"
      },
      "source": [
        "Можно создать массив из действительных числе длины N"
      ]
    },
    {
      "cell_type": "code",
      "metadata": {
        "id": "DBs9WJEHVaHE",
        "outputId": "e7972fdf-8c96-4219-ecff-39d85c232cf3",
        "colab": {
          "base_uri": "https://localhost:8080/"
        }
      },
      "source": [
        "N = 7\n",
        "array_1 = np.ndarray(N)  # Массив длины 7 по из float. По умолчанию используется тип float\n",
        "print(array_1)  # Выводится мусор\n",
        "array_2 = np.zeros(N)\n",
        "print(array_2)  # Выводятся нули"
      ],
      "execution_count": null,
      "outputs": [
        {
          "output_type": "stream",
          "text": [
            "[3.40463878e-316 2.33419537e-312 8.48798317e-313 2.41907520e-312\n",
            " 2.05833592e-312 8.70018275e-313 2.00414858e-052]\n",
            "[0. 0. 0. 0. 0. 0. 0.]\n"
          ],
          "name": "stdout"
        }
      ]
    },
    {
      "cell_type": "markdown",
      "metadata": {
        "id": "zU3M0VhCV3h5"
      },
      "source": [
        "В ```numpy``` массивах также можно использовать ```slice``` - срезы, как и в листах"
      ]
    },
    {
      "cell_type": "code",
      "metadata": {
        "id": "Kn9vvUG3WCWC",
        "outputId": "c626569c-f0ce-4f4b-d063-dc4c41bde3eb",
        "colab": {
          "base_uri": "https://localhost:8080/"
        }
      },
      "source": [
        "array = np.array([1, 2, 3, 4, 10, 9, 8, 7, 6])  # можно создать массив из List\n",
        "print(array[2:5])  # Выводим элементы с 2 включительно по 5 не включительно\n",
        "print(array[::2]) # Выводим каждый второй жлемент. (если первый или последний индексы пропущены, то они считаются первым и последним соответственно)"
      ],
      "execution_count": null,
      "outputs": [
        {
          "output_type": "stream",
          "text": [
            "[ 3  4 10]\n",
            "[ 1  3 10  8  6]\n"
          ],
          "name": "stdout"
        }
      ]
    },
    {
      "cell_type": "markdown",
      "metadata": {
        "id": "qv4-RedPe-jv"
      },
      "source": [
        "Найдем те элементы массива, которые больше 5"
      ]
    },
    {
      "cell_type": "code",
      "metadata": {
        "id": "BVOHgspRfDTz",
        "outputId": "442e97c2-34f5-4e9e-deb1-99cea3df150a",
        "colab": {
          "base_uri": "https://localhost:8080/"
        }
      },
      "source": [
        "array = np.array([1, 2, 3, 4, 10, 9, 8, 7, 6])  # можно создать массив из List\n",
        "greater_5 = array > 5  # Создается массив такой же длины из bool. Если элемент больше 5, то на его месте True, иначе False\n",
        "print(greater_5)\n",
        "elements_greater_5 = array[greater_5]  # Здесь выбираются только те элементы, на месте которых стоит True, то есть те, которые больше 5\n",
        "print(elements_greater_5)"
      ],
      "execution_count": null,
      "outputs": [
        {
          "output_type": "stream",
          "text": [
            "[False False False False  True  True  True  True  True]\n",
            "[10  9  8  7  6]\n"
          ],
          "name": "stdout"
        }
      ]
    },
    {
      "cell_type": "markdown",
      "metadata": {
        "id": "AakKp2ZvWBeA"
      },
      "source": [
        "В отличие от ```List``` массивы ```numpy``` можно умножить на число, складывать и производить прочие арифметические операции."
      ]
    },
    {
      "cell_type": "code",
      "metadata": {
        "id": "rxkfqsAAYxQT",
        "outputId": "c11021cd-ec02-423f-a88b-6fcde23c621f",
        "colab": {
          "base_uri": "https://localhost:8080/"
        }
      },
      "source": [
        "array_1 = np.array([1., 2., 3., 4., 5.])\n",
        "array_2 = np.array([2., 3., 4., 5., 6.,])\n",
        "\n",
        "\n",
        "print(array_1 * 5)  # Умножаем каждый элемент массива на 5\n",
        "print(array_1 + 1)  # Прибавляем к каждому элементу массива число 1\n",
        "print(array_1 + array_2)  # складываем 2 масива поэлементно\n",
        "print(array_1 * array_2)  # умножаем 2 массива поэлементно\n",
        "print(np.dot(array_1, array_2))  # Скалярное произведение"
      ],
      "execution_count": null,
      "outputs": [
        {
          "output_type": "stream",
          "text": [
            "[ 5. 10. 15. 20. 25.]\n",
            "[2. 3. 4. 5. 6.]\n",
            "[ 3.  5.  7.  9. 11.]\n",
            "[ 2.  6. 12. 20. 30.]\n",
            "70.0\n"
          ],
          "name": "stdout"
        }
      ]
    },
    {
      "cell_type": "markdown",
      "metadata": {
        "id": "hEzMRK2j1zQg"
      },
      "source": [
        "Также можно присваивать новые значения элементам массива"
      ]
    },
    {
      "cell_type": "code",
      "metadata": {
        "id": "2NyZK9gg16sy",
        "outputId": "d3273716-29ed-404c-e691-601a162ab2f9",
        "colab": {
          "base_uri": "https://localhost:8080/"
        }
      },
      "source": [
        "array = np.array([1, 2, 3, 4, 5, 1, 2, 3, 4, 5])\n",
        "\n",
        "array[0] = 5\n",
        "print(array)\n",
        "\n",
        "array[2:5] = 10  # Со второго ключительно по 5  не включительный элемент сделаем равным 10\n",
        "print(array)\n",
        "\n",
        "less_3 = array < 3  # Это будет массив bool. В местах где элементы были меньше 3 будет True\n",
        "print(less_3)\n",
        "\n",
        "array[less_3] = 3  # Все элементы, меньшее 3, делаем равными 3\n",
        "print(array)"
      ],
      "execution_count": null,
      "outputs": [
        {
          "output_type": "stream",
          "text": [
            "[5 2 3 4 5 1 2 3 4 5]\n",
            "[ 5  2 10 10 10  1  2  3  4  5]\n",
            "[False  True False False False  True  True False False False]\n",
            "[ 5  3 10 10 10  3  3  3  4  5]\n"
          ],
          "name": "stdout"
        }
      ]
    },
    {
      "cell_type": "markdown",
      "metadata": {
        "id": "Htvcp9PzFiYP"
      },
      "source": [
        "```numpy``` позволяет использовать двумерные массивы. Создадим массив размера 3 на 4 - 3 строки и 4 столбца"
      ]
    },
    {
      "cell_type": "code",
      "metadata": {
        "id": "qO_5a0kfF95k",
        "outputId": "55a20f63-bf1a-40a2-d559-9439647de8a9",
        "colab": {
          "base_uri": "https://localhost:8080/"
        }
      },
      "source": [
        "array = np.ndarray((3, 4))  # Создается двумерный массив\n",
        "print(\"Массив с мусором\")\n",
        "print(array)\n",
        "\n",
        "array_1 = np.zeros((3, 4))  # Создается двумерный массив с нулями\n",
        "print(\"Массив с нулями\")\n",
        "print(array_1)"
      ],
      "execution_count": null,
      "outputs": [
        {
          "output_type": "stream",
          "text": [
            "Массив с мусором\n",
            "[[0. 0. 2. 2.]\n",
            " [1. 1. 2. 2.]\n",
            " [0. 0. 2. 2.]]\n",
            "Массив с нулями\n",
            "[[0. 0. 0. 0.]\n",
            " [0. 0. 0. 0.]\n",
            " [0. 0. 0. 0.]]\n"
          ],
          "name": "stdout"
        }
      ]
    },
    {
      "cell_type": "markdown",
      "metadata": {
        "id": "Mhix9HahG1UU"
      },
      "source": [
        "Аналогично можно пользоваться срезами"
      ]
    },
    {
      "cell_type": "code",
      "metadata": {
        "id": "3I1IyZpYHA3x",
        "outputId": "db334495-f15c-4634-8e0b-ae10f3c0c1d0",
        "colab": {
          "base_uri": "https://localhost:8080/"
        }
      },
      "source": [
        "string_1 = array_1[0, :]  # первый индекс - нуль - первая строка\n",
        "print(\"Первая строка\")\n",
        "print(string_1)\n",
        "\n",
        "array_1[1, :] = 1  # кладем во вторую строку единицы\n",
        "print(\"Таблица с заполненной второй строкой\")\n",
        "print(array_1)\n",
        "\n",
        "array_1[:, 2:4] = 2  # кладем cо второго столбца включительно по четвертый столбец не включительно двойку\n",
        "print(\"Таблица с заполенными столбцами\")\n",
        "print(array_1)"
      ],
      "execution_count": null,
      "outputs": [
        {
          "output_type": "stream",
          "text": [
            "Первая строка\n",
            "[0. 0. 2. 2.]\n",
            "Таблица с заполненной второй строкой\n",
            "[[0. 0. 2. 2.]\n",
            " [1. 1. 1. 1.]\n",
            " [0. 0. 2. 2.]]\n",
            "Таблица с заполенными столбцами\n",
            "[[0. 0. 2. 2.]\n",
            " [1. 1. 2. 2.]\n",
            " [0. 0. 2. 2.]]\n"
          ],
          "name": "stdout"
        }
      ]
    },
    {
      "cell_type": "markdown",
      "metadata": {
        "id": "LOQeFrG9durZ"
      },
      "source": [
        "## Matplotlib\n",
        "\n",
        "Отметим, что данная библиотека вполне себе умеет работать с массивами numpy. И закрепим)"
      ]
    },
    {
      "cell_type": "code",
      "metadata": {
        "id": "O8i7ND9GeBXW"
      },
      "source": [
        "%matplotlib inline\n",
        "import matplotlib.pyplot as plt\n"
      ],
      "execution_count": null,
      "outputs": []
    },
    {
      "cell_type": "markdown",
      "metadata": {
        "id": "mEuzJMLReE78"
      },
      "source": [
        "Теперь нарисуем точки на плоскости"
      ]
    },
    {
      "cell_type": "code",
      "metadata": {
        "id": "nwc1ZX59eQGw",
        "outputId": "15ec3909-227e-4632-eb49-0956a6f35215",
        "colab": {
          "base_uri": "https://localhost:8080/",
          "height": 265
        }
      },
      "source": [
        "x = np.array([1, 2, 3, 4, 5, 6, 7])\n",
        "y = 2 * x * x  # каждый элемент массива умножается на себя же\n",
        "\n",
        "plt.scatter(x, y)  # отрисовываем точки с абсциссами x и ординатми y\n",
        "plt.show()  # показываем результат"
      ],
      "execution_count": null,
      "outputs": [
        {
          "output_type": "display_data",
          "data": {
            "image/png": "[encoded data removed]",
            "text/plain": [
              "<Figure size 432x288 with 1 Axes>"
            ]
          },
          "metadata": {
            "tags": [],
            "needs_background": "light"
          }
        }
      ]
    },
    {
      "cell_type": "markdown",
      "metadata": {
        "id": "7Egl1JEBeojz"
      },
      "source": [
        "Теперь отрисуем линию точки в трехмерном пространстве!"
      ]
    },
    {
      "cell_type": "code",
      "metadata": {
        "id": "yh_2AXIJevyj",
        "outputId": "937d6d60-896f-449b-cad8-2482c09acf24",
        "colab": {
          "base_uri": "https://localhost:8080/",
          "height": 248
        }
      },
      "source": [
        "x = np.array([1, 2, 3, 4, 5, 6, 7])\n",
        "y = x * x  # каждый элемент массива умножается на себя же\n",
        "z = x * x  # каждый элемент массива умножается на себя же\n",
        "from mpl_toolkits.mplot3d import Axes3D\n",
        "\n",
        "\n",
        "fig = plt.figure()\n",
        "ax = fig.add_subplot(111, projection='3d')\n",
        "\n",
        "ax.scatter(x, y, z)\n",
        "ax.plot(x, y, z, c='r')\n",
        "plt.show()"
      ],
      "execution_count": null,
      "outputs": [
        {
          "output_type": "display_data",
          "data": {
            "image/png": "[encoded data removed]",
            "text/plain": [
              "<Figure size 432x288 with 1 Axes>"
            ]
          },
          "metadata": {
            "tags": [],
            "needs_background": "light"
          }
        }
      ]
    },
    {
      "cell_type": "markdown",
      "metadata": {
        "id": "F8dAlbaMj5Ba"
      },
      "source": [
        "**Работа с pandas на минималках**\n",
        "\n",
        "Библиотека ```pandas``` предназначена для работы с табличными данными. Будем использовать ее для загрузки файлов.\n",
        "\n",
        "Далее загрузим файл из компьютера"
      ]
    },
    {
      "cell_type": "code",
      "metadata": {
        "id": "YYHkDDAeR5R4",
        "outputId": "e155f4af-b3fa-460a-f3be-15f90f667083",
        "colab": {
          "resources": {
            "http://localhost:8080/nbextensions/google.colab/files.js": {
              "data": "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",
              "ok": true,
              "headers": [
                [
                  "content-type",
                  "application/javascript"
                ]
              ],
              "status": 200,
              "status_text": "OK"
            }
          },
          "base_uri": "https://localhost:8080/",
          "height": 72
        }
      },
      "source": [
        "import pandas as pd\n",
        "\n",
        "from google.colab import files\n",
        "files = files.upload()\n",
        "\n",
        "import io\n",
        "table = pd.read_excel(io.BytesIO(files['input.xlsx'])).to_numpy()\n",
        "table_1 = np.array(table[:, 1:], dtype=np.float32)"
      ],
      "execution_count": null,
      "outputs": [
        {
          "output_type": "display_data",
          "data": {
            "text/html": [
              "\n",
              "     <input type=\"file\" id=\"files-032e5dd1-63da-4576-b368-9fbc29febf30\" name=\"files[]\" multiple disabled\n",
              "        style=\"border:none\" />\n",
              "     <output id=\"result-032e5dd1-63da-4576-b368-9fbc29febf30\">\n",
              "      Upload widget is only available when the cell has been executed in the\n",
              "      current browser session. Please rerun this cell to enable.\n",
              "      </output>\n",
              "      <script src=\"/nbextensions/google.colab/files.js\"></script> "
            ],
            "text/plain": [
              "<IPython.core.display.HTML object>"
            ]
          },
          "metadata": {
            "tags": []
          }
        },
        {
          "output_type": "stream",
          "text": [
            "Saving input.xlsx to input (4).xlsx\n"
          ],
          "name": "stdout"
        }
      ]
    },
    {
      "cell_type": "markdown",
      "metadata": {
        "id": "5kNnSgsBlnlr"
      },
      "source": [
        "Посмотрим, что лежит в 89 строке"
      ]
    },
    {
      "cell_type": "code",
      "metadata": {
        "id": "QNsF0Wq-lz_i",
        "outputId": "9ee69259-a3bc-4e12-f07b-43781e1ac186",
        "colab": {
          "base_uri": "https://localhost:8080/"
        }
      },
      "source": [
        "print(table[89])\n",
        "print(\"Скорость МКС\")\n",
        "print(np.linalg.norm(table[89][4:]))  # норма вектора - его длина\n",
        "print(\"Расстояние от МКС до центра Земли\")\n",
        "print(np.linalg.norm(table[89][1:4]))  # норма вектора - его длина"
      ],
      "execution_count": null,
      "outputs": [
        {
          "output_type": "stream",
          "text": [
            "['0 ISS (ZARYA)\\n' 5019184.9509996 2972440.65899668 -3481509.46161454\n",
            " -488.208407108198 6142.64201319333 4548.2460367442]\n",
            "Скорость МКС\n",
            "7658.781911099066\n",
            "Расстояние от МКС до центра Земли\n",
            "6793270.874542618\n"
          ],
          "name": "stdout"
        }
      ]
    },
    {
      "cell_type": "markdown",
      "metadata": {
        "id": "-ozsI-_yLvil"
      },
      "source": [
        "А теперь отрисуем все спутники точками!"
      ]
    },
    {
      "cell_type": "code",
      "metadata": {
        "id": "rHRm4YcsL2hB",
        "outputId": "b7afc344-6d10-4e53-d4ed-8846a54da1d1",
        "colab": {
          "base_uri": "https://localhost:8080/",
          "height": 248
        }
      },
      "source": [
        "fig = plt.figure()\n",
        "ax = fig.add_subplot(111, projection='3d')\n",
        "\n",
        "\n",
        "x_coords = table_1[:100, 0]  # все строки - второй столбец\n",
        "y_coords = table_1[:100, 1]  # все строки - третий столбец\n",
        "z_coords = table_1[:100, 2]  # все строки - четвертый столбец\n",
        "\n",
        "ax.scatter(x_coords, y_coords, z_coords)\n",
        "plt.show()"
      ],
      "execution_count": null,
      "outputs": [
        {
          "output_type": "display_data",
          "data": {
            "image/png": "[encoded data removed]",
            "text/plain": [
              "<Figure size 432x288 with 1 Axes>"
            ]
          },
          "metadata": {
            "tags": [],
            "needs_background": "light"
          }
        }
      ]
    }
  ]
}