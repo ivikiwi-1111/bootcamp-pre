{
  "cells": [
    {
      "cell_type": "markdown",
      "metadata": {
        "id": "hsmMRN1W_mFc"
      },
      "source": [
        "## Использование Python\n",
        "Добрый день! Сегодня будут рассказаны основы языка Python. Поехали!"
      ]
    },
    {
      "cell_type": "markdown",
      "metadata": {
        "id": "yvXfWbw9AKIF"
      },
      "source": [
        "## Переменные\n",
        "Для начала, поговорим о переменных.\n",
        "\n",
        "При создании переменной не нужно указывать ее тип. Создадим, например, целочисленную переменную."
      ]
    },
    {
      "cell_type": "code",
      "execution_count": null,
      "metadata": {
        "colab": {
          "base_uri": "https://localhost:8080/"
        },
        "id": "R9FeFbLAAaos",
        "outputId": "5a0b81da-b9ec-47bd-e352-198e1448086c",
        "vscode": {
          "languageId": "python"
        }
      },
      "outputs": [
        {
          "name": "stdout",
          "output_type": "stream",
          "text": [
            "5\n",
            "15\n"
          ]
        }
      ],
      "source": [
        "a = 5\n",
        "print(a)\n",
        "b = 10\n",
        "print(a + b)"
      ]
    },
    {
      "cell_type": "markdown",
      "metadata": {
        "id": "ybJwlL6qAuLN"
      },
      "source": [
        "В первой строчке мы создаем переменную, во втором выводим ее на экран с помощью функции ```print()```"
      ]
    },
    {
      "cell_type": "markdown",
      "metadata": {
        "id": "sKFFEoTeBAmZ"
      },
      "source": [
        "Теперь создадим переменную типа ```float```. Точка после числа укажет, что переменная имеет тип вещественного числа"
      ]
    },
    {
      "cell_type": "code",
      "execution_count": null,
      "metadata": {
        "colab": {
          "base_uri": "https://localhost:8080/"
        },
        "id": "hA3SLuRMBJbd",
        "outputId": "8ac839b4-295c-4360-dc96-5b15caf25d5b",
        "vscode": {
          "languageId": "python"
        }
      },
      "outputs": [
        {
          "name": "stdout",
          "output_type": "stream",
          "text": [
            "5.0\n",
            "30.0\n"
          ]
        }
      ],
      "source": [
        "b = 5.\n",
        "print(b)\n",
        "c = 6\n",
        "print(b * c)"
      ]
    },
    {
      "cell_type": "markdown",
      "metadata": {
        "id": "ubn6fBDoBcpq"
      },
      "source": [
        "Также можно создавать строчки"
      ]
    },
    {
      "cell_type": "code",
      "execution_count": null,
      "metadata": {
        "colab": {
          "base_uri": "https://localhost:8080/"
        },
        "id": "Q1xjUU51Bf7H",
        "outputId": "f9fcb6b5-1345-415a-d7ca-26d314c698e8",
        "vscode": {
          "languageId": "python"
        }
      },
      "outputs": [
        {
          "name": "stdout",
          "output_type": "stream",
          "text": [
            "Я создал строку\n",
            "А еще я так создал строку\n",
            "Я создал строкуА еще я так создал строку\n"
          ]
        }
      ],
      "source": [
        "a = \"Я создал строку\"\n",
        "b = 'А еще я так создал строку'\n",
        "print(a)\n",
        "print(b)\n",
        "c = a + b\n",
        "print(c)"
      ]
    },
    {
      "cell_type": "markdown",
      "metadata": {
        "id": "AF9kA-jFB-eo"
      },
      "source": [
        "## Массивы\n",
        "Теперь поговорим о массивах. В Python есть несколько типов массивов. Расмотрим ```List```."
      ]
    },
    {
      "cell_type": "code",
      "execution_count": null,
      "metadata": {
        "colab": {
          "base_uri": "https://localhost:8080/"
        },
        "id": "pJ6FZeemCOLa",
        "outputId": "39d37e2b-5b66-4a37-acbc-13ffa819ca55",
        "vscode": {
          "languageId": "python"
        }
      },
      "outputs": [
        {
          "name": "stdout",
          "output_type": "stream",
          "text": [
            "[5, 2, 3, 7, 1]\n"
          ]
        }
      ],
      "source": [
        "array = [5, 2, 3, 7, 1]\n",
        "print(array)"
      ]
    },
    {
      "cell_type": "markdown",
      "metadata": {
        "id": "C2LYvkANCWvd"
      },
      "source": [
        "Здесь мы создали массив из нескольких целых чисел. К каждому такому числу можно обратиться по номеру с помощью квадратных скобок. Напомню, что нумерация элементов массива начинается с нуля!"
      ]
    },
    {
      "cell_type": "code",
      "execution_count": null,
      "metadata": {
        "colab": {
          "base_uri": "https://localhost:8080/"
        },
        "id": "fVF4tmJZCV6G",
        "outputId": "c937fa8c-c947-413d-eb88-8751f9139c5f",
        "vscode": {
          "languageId": "python"
        }
      },
      "outputs": [
        {
          "name": "stdout",
          "output_type": "stream",
          "text": [
            "7\n"
          ]
        }
      ],
      "source": [
        "print(array[3])  # Это комментарий. Код после знака # не испольняется. Будет выведено число 7"
      ]
    },
    {
      "cell_type": "code",
      "execution_count": null,
      "metadata": {
        "colab": {
          "base_uri": "https://localhost:8080/",
          "height": 167
        },
        "id": "6J4CWyxwCzmD",
        "outputId": "81690e30-971a-4c09-9f1e-222162630a28",
        "vscode": {
          "languageId": "python"
        }
      },
      "outputs": [
        {
          "ename": "IndexError",
          "evalue": "ignored",
          "output_type": "error",
          "traceback": [
            "\u001b[0;31m---------------------------------------------------------------------------\u001b[0m",
            "\u001b[0;31mIndexError\u001b[0m                                Traceback (most recent call last)",
            "\u001b[0;32m<ipython-input-65-7f348a1ec568>\u001b[0m in \u001b[0;36m<module>\u001b[0;34m()\u001b[0m\n\u001b[0;32m----> 1\u001b[0;31m \u001b[0mprint\u001b[0m\u001b[0;34m(\u001b[0m\u001b[0marray\u001b[0m\u001b[0;34m[\u001b[0m\u001b[0;36m5\u001b[0m\u001b[0;34m]\u001b[0m\u001b[0;34m)\u001b[0m  \u001b[0;31m# А вот здесь будет ошибка! последний элемент имеет номер 4 (Нумерация с нуля!)\u001b[0m\u001b[0;34m\u001b[0m\u001b[0;34m\u001b[0m\u001b[0m\n\u001b[0m",
            "\u001b[0;31mIndexError\u001b[0m: list index out of range"
          ]
        }
      ],
      "source": [
        "print(array[5])  # А вот здесь будет ошибка! последний элемент имеет номер 4 (Нумерация с нуля!)"
      ]
    },
    {
      "cell_type": "markdown",
      "metadata": {
        "id": "6kZKniI-ESf_"
      },
      "source": [
        "Можно добавить элемент в конец с помощью *метода* ```append```"
      ]
    },
    {
      "cell_type": "code",
      "execution_count": null,
      "metadata": {
        "colab": {
          "base_uri": "https://localhost:8080/"
        },
        "id": "-L8RE4PEFHWF",
        "outputId": "618280f4-72ec-4337-eafd-78dd359308f1",
        "vscode": {
          "languageId": "python"
        }
      },
      "outputs": [
        {
          "name": "stdout",
          "output_type": "stream",
          "text": [
            "[5, 2, 3, 7, 1]\n",
            "[5, 2, 3, 7, 1, 10]\n"
          ]
        }
      ],
      "source": [
        "print(array)\n",
        "array.append(10)\n",
        "print(array)"
      ]
    },
    {
      "cell_type": "code",
      "execution_count": null,
      "metadata": {
        "colab": {
          "base_uri": "https://localhost:8080/"
        },
        "id": "RKAR8A7aZOyV",
        "outputId": "2344e1f4-bf2f-40ef-cb89-992d509ba41f",
        "vscode": {
          "languageId": "python"
        }
      },
      "outputs": [
        {
          "name": "stdout",
          "output_type": "stream",
          "text": [
            "[5, 2, 3, 4, 1, 10]\n"
          ]
        }
      ],
      "source": [
        "array[3] = 4  # Записали четверку в элемент номер 3 (Нумерация с нуля!)\n",
        "print(array)"
      ]
    },
    {
      "cell_type": "markdown",
      "metadata": {
        "id": "JfHrbePkFZql"
      },
      "source": [
        "Также можно узнать длину ```List``` с помощью функции ```len```"
      ]
    },
    {
      "cell_type": "code",
      "execution_count": null,
      "metadata": {
        "vscode": {
          "languageId": "python"
        }
      },
      "outputs": [],
      "source": []
    },
    {
      "cell_type": "code",
      "execution_count": null,
      "metadata": {
        "colab": {
          "base_uri": "https://localhost:8080/"
        },
        "id": "DP7n2xVTFih6",
        "outputId": "e776686a-61f7-45bc-a0d7-989b66b458d6",
        "vscode": {
          "languageId": "python"
        }
      },
      "outputs": [
        {
          "name": "stdout",
          "output_type": "stream",
          "text": [
            "6\n"
          ]
        }
      ],
      "source": [
        "print(len(array))  # Длина массива после добавления числа 10 стала 6!"
      ]
    },
    {
      "cell_type": "markdown",
      "metadata": {
        "id": "Q2pL9UmqFv2i"
      },
      "source": [
        "Можно взять срез (slice). Это множество элементов начиная с какого-то номера включительно по какой-то не включительно. Например возьмем элементы с 2 включительно по 5 не включительно"
      ]
    },
    {
      "cell_type": "code",
      "execution_count": null,
      "metadata": {
        "colab": {
          "base_uri": "https://localhost:8080/"
        },
        "id": "RcboaxbNGSW1",
        "outputId": "e3c49805-b9c7-4075-ec70-04b552cf1af6",
        "vscode": {
          "languageId": "python"
        }
      },
      "outputs": [
        {
          "name": "stdout",
          "output_type": "stream",
          "text": [
            "[3, 4, 1]\n"
          ]
        }
      ],
      "source": [
        "array_2 = array[2:5]\n",
        "print(array_2)"
      ]
    },
    {
      "cell_type": "markdown",
      "metadata": {
        "id": "QePU1SD4Gc4r"
      },
      "source": [
        "Также можно взять slice с некоторым шагом. \n",
        "\n",
        "Например возьмем элементы с нечетным номером - с 1 по последний через один. Последний элемент можно указать напрямую или посчитать через ```len```. \n",
        "А еще можно написать индекс -1 - он вас поймет. \n",
        "Шаг длиной два, то есть взятие каждого второго элемента, указывается после второго двоеточия.\n",
        "\n",
        "Сам последний элемент не вошел - так работают срезы, правая граница не включается."
      ]
    },
    {
      "cell_type": "code",
      "execution_count": null,
      "metadata": {
        "colab": {
          "base_uri": "https://localhost:8080/"
        },
        "id": "JW3WQWHXG4pC",
        "outputId": "c6d409ca-cb48-4559-a2c5-1c458822a79d",
        "vscode": {
          "languageId": "python"
        }
      },
      "outputs": [
        {
          "name": "stdout",
          "output_type": "stream",
          "text": [
            "[5, 2, 3, 4, 1, 10]\n",
            "[2, 4]\n",
            "[10, 1, 4, 3, 2, 5]\n"
          ]
        }
      ],
      "source": [
        "print(array)\n",
        "array_3 = array[1:-1:2]\n",
        "print(array_3)\n",
        "print(array[::-1])  # А еще с помощью это механики можно перевернуть массив"
      ]
    },
    {
      "cell_type": "code",
      "execution_count": null,
      "metadata": {
        "colab": {
          "base_uri": "https://localhost:8080/"
        },
        "id": "LMNnGOg5aUgE",
        "outputId": "ce967611-f299-42c1-93e2-49d67e1ac334",
        "vscode": {
          "languageId": "python"
        }
      },
      "outputs": [
        {
          "name": "stdout",
          "output_type": "stream",
          "text": [
            "['1', 'one', '22']\n",
            "[1, '2345', 1.0]\n"
          ]
        }
      ],
      "source": [
        "string_array = ['1', 'one', '22']  # Можно делать массив из строк\n",
        "print(string_array)\n",
        "array_4 = [1, '2345', 1.]  # А можно накидать все вперемешку - но лучше не злоупотребляйте, а то можете запутаться и получить сложные ошибки\n",
        "print(array_4)"
      ]
    },
    {
      "cell_type": "markdown",
      "metadata": {
        "id": "PNGZ-9leHcYa"
      },
      "source": [
        "Больше методов и функций для работы с ```List``` вы сможете найти в интернете)"
      ]
    },
    {
      "cell_type": "markdown",
      "metadata": {
        "id": "I7kaF3xUIFeT"
      },
      "source": [
        "## Циклы\n",
        "\n",
        "Теперь обратимся с использованию циклов. Цикл - это некоторая повторяющаяся несколько раз команда или набор повторяющихся команд.\n",
        "\n",
        "Например, сделаем цикл со счетчиком i, который пробегает значения от 0 до 6 не включительно и выведем на экран значения счетчика."
      ]
    },
    {
      "cell_type": "code",
      "execution_count": null,
      "metadata": {
        "colab": {
          "base_uri": "https://localhost:8080/"
        },
        "id": "ecMA-7O4JNB9",
        "outputId": "0f8429bd-6e71-4e22-f33e-bb997eadf7d8",
        "vscode": {
          "languageId": "python"
        }
      },
      "outputs": [
        {
          "name": "stdout",
          "output_type": "stream",
          "text": [
            "0\n",
            "1\n",
            "2\n",
            "3\n",
            "4\n",
            "5\n",
            "iter\n"
          ]
        }
      ],
      "source": [
        "for i in range(6):  # Вот это обозначение цикла. Далее нужно сделать отступ и написать команды для исполнения\n",
        "  print(i)  # Отступ важен, так интерпретатор поймет, что ему повторять, а что нет\n",
        "print(\"iter\")"
      ]
    },
    {
      "cell_type": "markdown",
      "metadata": {
        "id": "vtzVWoJPJegg"
      },
      "source": [
        "Можно начать с числа 2"
      ]
    },
    {
      "cell_type": "code",
      "execution_count": null,
      "metadata": {
        "colab": {
          "base_uri": "https://localhost:8080/"
        },
        "id": "Bh1dBqd8JjG-",
        "outputId": "05fbf3d6-e5b6-4dad-a7a7-dd5d6733b8ea",
        "vscode": {
          "languageId": "python"
        }
      },
      "outputs": [
        {
          "name": "stdout",
          "output_type": "stream",
          "text": [
            "2\n",
            "3\n",
            "4\n",
            "5\n"
          ]
        }
      ],
      "source": [
        "for i in range(2, 6):\n",
        "  print(i)"
      ]
    },
    {
      "cell_type": "markdown",
      "metadata": {
        "id": "HJN4CF1kJofA"
      },
      "source": [
        "Можно сделать так, чтобы ```i``` пробегало только каждое второе число"
      ]
    },
    {
      "cell_type": "code",
      "execution_count": null,
      "metadata": {
        "colab": {
          "base_uri": "https://localhost:8080/"
        },
        "id": "Zix9lGjiJwB4",
        "outputId": "0943ae70-71a6-4b9a-c437-7625af02bf9f",
        "vscode": {
          "languageId": "python"
        }
      },
      "outputs": [
        {
          "name": "stdout",
          "output_type": "stream",
          "text": [
            "2\n",
            "4\n"
          ]
        }
      ],
      "source": [
        "for i in range(2, 6, 2):  # от 2 включительно, до 6 не включительно, каждое второе число\n",
        "  print(i)"
      ]
    },
    {
      "cell_type": "markdown",
      "metadata": {
        "id": "vjR7OMOuKWU4"
      },
      "source": [
        "Теперь выведем на экран каждый второй элемент массива!"
      ]
    },
    {
      "cell_type": "code",
      "execution_count": null,
      "metadata": {
        "colab": {
          "base_uri": "https://localhost:8080/"
        },
        "id": "X0_Ha0f3Ka-2",
        "outputId": "76d9c14e-0c89-4f66-af08-c6407ad811f1",
        "vscode": {
          "languageId": "python"
        }
      },
      "outputs": [
        {
          "name": "stdout",
          "output_type": "stream",
          "text": [
            "5\n",
            "2\n",
            "3\n",
            "2\n",
            "[0, 1, 0, 8, 0, 6, 0]\n"
          ]
        }
      ],
      "source": [
        "array = [5, 1, 2, 8, 3, 6, 2]  # вот сам массив\n",
        "\n",
        "for i in range(0, len(array), 2):  # от нулевого элемента до  len(array) не включительно с шагом 2\n",
        "  print(array[i])\n",
        "  array[i] = 0  # вот тут он по отступу понял, что эта строка тоже внутри цикла\n",
        "print(array)"
      ]
    },
    {
      "cell_type": "markdown",
      "metadata": {
        "id": "zdNGTD-cLG8T"
      },
      "source": [
        "На самом деле функция ```range``` создает массив чисел в заданном диапазоне , а i пробегается по ним. Можно пробежаться и по произвольному массиву:"
      ]
    },
    {
      "cell_type": "code",
      "execution_count": null,
      "metadata": {
        "colab": {
          "base_uri": "https://localhost:8080/"
        },
        "id": "OOZy0myWLQEZ",
        "outputId": "2510b55f-de63-49c5-cca4-10052b8020a2",
        "vscode": {
          "languageId": "python"
        }
      },
      "outputs": [
        {
          "name": "stdout",
          "output_type": "stream",
          "text": [
            "asd\n",
            "1\n",
            "5\n",
            "qwertwt\n",
            "10\n"
          ]
        }
      ],
      "source": [
        "array = ['asd', 1, 5, 'qwertwt', 10]\n",
        "\n",
        "for element in array:  # Здесь переменная element равняется элементам array поочередно\n",
        "  print(element)"
      ]
    },
    {
      "cell_type": "markdown",
      "metadata": {
        "id": "3AmL3Fk_MhsY"
      },
      "source": [
        "Также иногда используется цикл ```while```. Он будет исполнятся до тех пор, пока условие внутри него не станет ложным.\n",
        "\n",
        "Будем выводить переменную ```i``` пока она не станет большей 5"
      ]
    },
    {
      "cell_type": "code",
      "execution_count": null,
      "metadata": {
        "colab": {
          "base_uri": "https://localhost:8080/"
        },
        "id": "j2bUUlAUM-UQ",
        "outputId": "7481f691-3ada-4930-a3d6-4e976b402821",
        "vscode": {
          "languageId": "python"
        }
      },
      "outputs": [
        {
          "name": "stdout",
          "output_type": "stream",
          "text": [
            "0\n",
            "1\n",
            "2\n",
            "3\n",
            "4\n",
            "5\n"
          ]
        }
      ],
      "source": [
        "i = 0\n",
        "while i <= 5:\n",
        "  print(i)\n",
        "  i = i + 1  # Не забывайте менять переменную, а то цикл будет бесконечным!"
      ]
    },
    {
      "cell_type": "markdown",
      "metadata": {
        "id": "ywkqtPd9Ndcr"
      },
      "source": [
        "## Условия\n",
        "\n",
        "Теперь поговорим об условиях ```if```. ```if ``` проверяет истинность некоторой переменной, и если она верна, исполняется блок комманд, следующий за ```if```.\n",
        "\n",
        "Например, выведем на экран все четные элементы массива"
      ]
    },
    {
      "cell_type": "code",
      "execution_count": null,
      "metadata": {
        "colab": {
          "base_uri": "https://localhost:8080/"
        },
        "id": "ahlMJTL6N-xm",
        "outputId": "bb40aee5-ec5e-4515-9178-06f42996d836",
        "vscode": {
          "languageId": "python"
        }
      },
      "outputs": [
        {
          "name": "stdout",
          "output_type": "stream",
          "text": [
            "2\n",
            "6\n",
            "2\n",
            "8\n",
            "10\n"
          ]
        }
      ],
      "source": [
        "array = [1, 5, 2, 6, 2,3, 7, 8, 10]\n",
        "\n",
        "for element in array:  # запускаем цикл по всем элементам. В следующей строке не забудьте сделать отступ!\n",
        "  if element % 2 == 0:  # % возвращает остаток от деления. Если отстаток от деленя на 2 равен нулю, то  выполняем команду Не забываем про отступ!\n",
        "    print(element)  # тут два отступа - один говорит, что мы внутри if, другой - что мы с этим if'ом находимся внутри for"
      ]
    },
    {
      "cell_type": "markdown",
      "metadata": {
        "id": "B7Qa_mR5OjsV"
      },
      "source": [
        "Чем можно сравнивать?\n",
        "\n",
        "``` ==, !=, >, <, >=, <=```\n",
        "\n",
        "Логическое или - ``` or ```\n",
        "\n",
        "Логическое и -  ```and```\n",
        "\n",
        "Теперь выведем только те числа четные числа, которые меньше 5"
      ]
    },
    {
      "cell_type": "code",
      "execution_count": null,
      "metadata": {
        "colab": {
          "base_uri": "https://localhost:8080/"
        },
        "id": "gkSYQk4kO_gI",
        "outputId": "c6ccc6a9-31c9-484c-b6ee-f352fe5b0918",
        "vscode": {
          "languageId": "python"
        }
      },
      "outputs": [
        {
          "name": "stdout",
          "output_type": "stream",
          "text": [
            "2\n",
            "4\n"
          ]
        }
      ],
      "source": [
        "array = [1, 5, 2, 6, 4, 3, 7, 8, 10]\n",
        "\n",
        "for element in array:  # запускаем цикл по всем элементам. В следующей строке не забудьте сделать отступ!\n",
        "  if (element % 2 == 0) and element < 5:  # два условия соеденины логическим и. Не забываем про отступ\n",
        "    print(element)"
      ]
    },
    {
      "cell_type": "markdown",
      "metadata": {
        "id": "uR5cJjdHaCCG"
      },
      "source": [
        "## Функции\n",
        "\n",
        "Напишем фукнцию, которая считает сумму двух чисел. Она принимает на вход два числа, складывает их и возвращает результат. \n",
        "\n",
        "Полезная штука, если вы написали код, а потом увидели, что там один и тот же блок несколько раз повторяется. \n",
        "Ну или если вы уже умный, начали писать блок второй раз, поняли, что где-то его уже видели, и решили не копипастить, а функцию сделать."
      ]
    },
    {
      "cell_type": "code",
      "execution_count": null,
      "metadata": {
        "id": "XXM2l3fNaQyN",
        "vscode": {
          "languageId": "python"
        }
      },
      "outputs": [],
      "source": [
        "def calc_sum(a, b):  # Функция, которая считает сумму чисел\n",
        "  #здесь может быть ваш суперсложный код ъуъ!\n",
        "  #но пока будем просто возвращать сумму :)\n",
        "  return a+b"
      ]
    },
    {
      "cell_type": "markdown",
      "metadata": {
        "id": "BIupniZfda4P"
      },
      "source": [
        "Теперь вызовем ее."
      ]
    },
    {
      "cell_type": "code",
      "execution_count": null,
      "metadata": {
        "colab": {
          "base_uri": "https://localhost:8080/"
        },
        "id": "3sF8wJ0tdeux",
        "outputId": "9c967937-2404-4e41-fa5f-653db9a50c35",
        "vscode": {
          "languageId": "python"
        }
      },
      "outputs": [
        {
          "name": "stdout",
          "output_type": "stream",
          "text": [
            "12\n"
          ]
        }
      ],
      "source": [
        "a = 5\n",
        "b = 7\n",
        "print(calc_sum(a, b))"
      ]
    },
    {
      "cell_type": "markdown",
      "metadata": {
        "id": "LOQeFrG9durZ"
      },
      "source": [
        "## Matplotlib\n",
        "\n",
        "\n",
        "Сейчас рассмотрим библиотеку, позволяющую рисовать!\n",
        "\n",
        "По умолчанию она не ставится, вам придется ее установить - в зависимости от того, как вы ставили себе питон, это либо pip, либо графический интерфейс среды разработки. \n",
        "Это несложно и недолго, но в первый раз можно и подзастрять, поэтому лучше спросите старших товарищей.\n",
        "Вариантов много, поэтому короткую инструкцию написать не получится.\n",
        "\n",
        "После установки подключить ее можно следующим образом:"
      ]
    },
    {
      "cell_type": "code",
      "execution_count": null,
      "metadata": {
        "id": "O8i7ND9GeBXW",
        "vscode": {
          "languageId": "python"
        }
      },
      "outputs": [],
      "source": [
        "%matplotlib inline\n",
        "import matplotlib.pyplot as plt\n"
      ]
    },
    {
      "cell_type": "markdown",
      "metadata": {
        "id": "mEuzJMLReE78"
      },
      "source": [
        "Теперь нарисуем точки на плоскости"
      ]
    },
    {
      "cell_type": "code",
      "execution_count": null,
      "metadata": {
        "colab": {
          "base_uri": "https://localhost:8080/",
          "height": 265
        },
        "id": "nwc1ZX59eQGw",
        "outputId": "2cc513c7-3471-4db3-e317-26b2c8261a36",
        "vscode": {
          "languageId": "python"
        }
      },
      "outputs": [
        {
          "data": {
            "image/png": "[encoded data removed]",
            "text/plain": [
              "<Figure size 432x288 with 1 Axes>"
            ]
          },
          "metadata": {
            "needs_background": "light"
          },
          "output_type": "display_data"
        }
      ],
      "source": [
        "x = [1, 2, 3, 4, 5, 6, 7]\n",
        "y = []  # каждый элемент массива умножается на себя же\n",
        "\n",
        "for t in x:  # для каждого элемента массива х создаем соответствующий ему элемент в у\n",
        "  y.append(t*t) \n",
        "\n",
        "plt.scatter(x, y)  # отрисовываем точки с абсциссами x и ординатами y\n",
        "plt.show()  # показываем результат"
      ]
    },
    {
      "cell_type": "markdown",
      "metadata": {
        "id": "7Egl1JEBeojz"
      },
      "source": [
        "Теперь отрисуем точки в трехмерном пространстве!"
      ]
    },
    {
      "cell_type": "code",
      "execution_count": null,
      "metadata": {
        "colab": {
          "base_uri": "https://localhost:8080/",
          "height": 248
        },
        "id": "yh_2AXIJevyj",
        "outputId": "dddb1c5c-32f2-4844-f544-c24f1f974a8f",
        "vscode": {
          "languageId": "python"
        }
      },
      "outputs": [
        {
          "data": {
            "image/png": "[encoded data removed]",
            "text/plain": [
              "<Figure size 432x288 with 1 Axes>"
            ]
          },
          "metadata": {
            "needs_background": "light"
          },
          "output_type": "display_data"
        }
      ],
      "source": [
        "x = [1, 2, 3, 4, 5, 6, 7]\n",
        "y = []\n",
        "z = []\n",
        "\n",
        "for t in x:\n",
        "  y.append(t*t)  # каждый элемент массива умножается на себя же \n",
        "  z.append(t*t)  # каждый элемент массива умножается на себя же\n",
        "from mpl_toolkits.mplot3d import Axes3D\n",
        "\n",
        "\n",
        "fig = plt.figure()\n",
        "ax = fig.add_subplot(111, projection='3d')\n",
        "\n",
        "ax.scatter(x, y, z)\n",
        "ax.plot(x, y, z, c='r')\n",
        "plt.show()"
      ]
    }
  ],
  "metadata": {
    "colab": {
      "collapsed_sections": [],
      "name": "eto_basa.ipynb",
      "provenance": []
    },
    "kernelspec": {
      "display_name": "Python 3",
      "name": "python3"
    }
  },
  "nbformat": 4,
  "nbformat_minor": 0
}
